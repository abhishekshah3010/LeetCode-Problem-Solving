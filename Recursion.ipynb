{
 "cells": [
  {
   "cell_type": "markdown",
   "id": "61a14aa3",
   "metadata": {},
   "source": [
    "# Recursion"
   ]
  },
  {
   "cell_type": "markdown",
   "id": "8f61a379",
   "metadata": {},
   "source": [
    "### Palindrome "
   ]
  },
  {
   "cell_type": "code",
   "execution_count": 2,
   "id": "78d71177",
   "metadata": {},
   "outputs": [
    {
     "name": "stdout",
     "output_type": "stream",
     "text": [
      "True\n",
      "False\n"
     ]
    }
   ],
   "source": [
    "def ispalindrome(s):\n",
    "    if len(s) == 0:\n",
    "        return True\n",
    "    if s[0] == s[-1]:\n",
    "        return ispalindrome(s[1:-1])\n",
    "    else:\n",
    "        return False\n",
    "\n",
    "print(ispalindrome(\"kayak\"))\n",
    "print(ispalindrome(\"abhishek\"))"
   ]
  },
  {
   "cell_type": "markdown",
   "id": "a83ac7cd",
   "metadata": {},
   "source": [
    "### String Reversal"
   ]
  },
  {
   "cell_type": "code",
   "execution_count": 34,
   "id": "1fd3fcbe",
   "metadata": {},
   "outputs": [
    {
     "data": {
      "text/plain": [
       "'hahs kehsihba'"
      ]
     },
     "execution_count": 34,
     "metadata": {},
     "output_type": "execute_result"
    }
   ],
   "source": [
    "def reverse(s):\n",
    "    if len(s) < 1:\n",
    "        return s\n",
    "    else:\n",
    "        return reverse(s[1:]) + s[0]\n",
    "\n",
    "reverse(\"abhishek shah\")"
   ]
  },
  {
   "cell_type": "markdown",
   "id": "5a192111",
   "metadata": {},
   "source": [
    "### Decimal to Binary"
   ]
  },
  {
   "cell_type": "code",
   "execution_count": 51,
   "id": "aac348ad",
   "metadata": {},
   "outputs": [
    {
     "data": {
      "text/plain": [
       "'11101001'"
      ]
     },
     "execution_count": 51,
     "metadata": {},
     "output_type": "execute_result"
    }
   ],
   "source": [
    "def conversion(num):\n",
    "    if num == 0:\n",
    "        return \"\" \n",
    "    else:\n",
    "        return conversion(num//2) + str(num%2) \n",
    "\n",
    "conversion(233)"
   ]
  },
  {
   "cell_type": "code",
   "execution_count": 55,
   "id": "06bb1b6e",
   "metadata": {},
   "outputs": [
    {
     "data": {
      "text/plain": [
       "'11101001'"
      ]
     },
     "execution_count": 55,
     "metadata": {},
     "output_type": "execute_result"
    }
   ],
   "source": [
    "def conversion(num, result):\n",
    "    if num == 0:\n",
    "        return result \n",
    "    \n",
    "    result = str(num % 2) + result\n",
    "    return conversion(num//2, result)\n",
    "\n",
    "conversion(233, \"\")"
   ]
  },
  {
   "cell_type": "markdown",
   "id": "7cb04e27",
   "metadata": {},
   "source": [
    "### Sum of Natural Numbers"
   ]
  },
  {
   "cell_type": "code",
   "execution_count": 68,
   "id": "f90671af",
   "metadata": {},
   "outputs": [
    {
     "data": {
      "text/plain": [
       "55"
      ]
     },
     "execution_count": 68,
     "metadata": {},
     "output_type": "execute_result"
    }
   ],
   "source": [
    "def sum(n):\n",
    "    if n <= 1:\n",
    "        return n\n",
    "    \n",
    "    result = sum(n-1) + n \n",
    "    return result\n",
    "\n",
    "sum(10)"
   ]
  },
  {
   "cell_type": "markdown",
   "id": "ddb6aa39",
   "metadata": {},
   "source": [
    "## Divide and Conquer"
   ]
  },
  {
   "cell_type": "markdown",
   "id": "95ad9e7b",
   "metadata": {},
   "source": [
    "### Binary Search"
   ]
  },
  {
   "cell_type": "code",
   "execution_count": 76,
   "id": "1371c264",
   "metadata": {},
   "outputs": [
    {
     "data": {
      "text/plain": [
       "9"
      ]
     },
     "execution_count": 76,
     "metadata": {},
     "output_type": "execute_result"
    }
   ],
   "source": [
    "def BinarySearch(data, val, left, right):\n",
    "    if left > right:\n",
    "        return - 1\n",
    "    \n",
    "    midindex = (left + right) // 2\n",
    "    \n",
    "    if data[midindex] == val:\n",
    "        return midindex\n",
    "    \n",
    "    if data[midindex] > val:\n",
    "        return BinarySearch(data, val, left, midindex-1)\n",
    "    else:\n",
    "        return BinarySearch(data, val, midindex+1, right)\n",
    "\n",
    "data = [-1, 0, 1, 2, 3, 4, 7, 9, 10, 20]\n",
    "BinarySearch(data, 20, 0, len(data)-1)"
   ]
  },
  {
   "cell_type": "markdown",
   "id": "f17c2460",
   "metadata": {},
   "source": [
    "### Fibonacii Sequence"
   ]
  },
  {
   "cell_type": "code",
   "execution_count": 86,
   "id": "0af85f11",
   "metadata": {},
   "outputs": [
    {
     "data": {
      "text/plain": [
       "34"
      ]
     },
     "execution_count": 86,
     "metadata": {},
     "output_type": "execute_result"
    }
   ],
   "source": [
    "def fibo(n):\n",
    "    if n == 0 or n == 1:\n",
    "        return n\n",
    "    else:\n",
    "        return fibo(n-1) + fibo(n-2)\n",
    "\n",
    "fibo(9)"
   ]
  },
  {
   "cell_type": "markdown",
   "id": "d4aba793",
   "metadata": {},
   "source": [
    "### Merge Sort"
   ]
  },
  {
   "cell_type": "code",
   "execution_count": 94,
   "id": "be5ba1aa",
   "metadata": {},
   "outputs": [
    {
     "name": "stdout",
     "output_type": "stream",
     "text": [
      "[-1, 0, 1, 2, 3, 4, 7, 9, 10, 20]\n"
     ]
    }
   ],
   "source": [
    "def msort(data):\n",
    "    # divide step\n",
    "    if len(data) == 1:\n",
    "        return data\n",
    "    \n",
    "    midindex = len(data) // 2\n",
    "    first = msort(data[0:midindex])\n",
    "    second = msort(data[midindex:len(data)])\n",
    "    \n",
    "    # conquer step\n",
    "    ans = []\n",
    "    firstind = 0\n",
    "    secondind = 0\n",
    "    \n",
    "    while firstind < len(first) and secondind < len(second):\n",
    "        if first[firstind] < second[secondind]:\n",
    "            ans.append(first[firstind])\n",
    "            firstind += 1\n",
    "        else:\n",
    "            ans.append(second[secondind])\n",
    "            secondind += 1\n",
    "            \n",
    "    if firstind < len(first):\n",
    "        ans.extend(first[firstind:])\n",
    "    else:\n",
    "        ans.extend(second[secondind:])\n",
    "        \n",
    "    return ans\n",
    "\n",
    "data = [4, 1, 3, 2, 0, -1, 7, 10, 9, 20]\n",
    "print(msort(data))"
   ]
  },
  {
   "cell_type": "markdown",
   "id": "48e8abe4",
   "metadata": {},
   "source": [
    "## Linked List"
   ]
  },
  {
   "cell_type": "markdown",
   "id": "9a6cf8f1",
   "metadata": {},
   "source": [
    "### Reverse Linked list"
   ]
  },
  {
   "cell_type": "code",
   "execution_count": 101,
   "id": "2456b718",
   "metadata": {},
   "outputs": [],
   "source": [
    "class ListNode:\n",
    "    def __init__(self, val=0, next=None):\n",
    "        self.val = val\n",
    "        self.next = next\n",
    "\n",
    "class Solution:\n",
    "    def reverseList_r(self, head: ListNode) -> ListNode: # recursive\n",
    "        if not head or not head.next: return head\n",
    "        p = self.reverseList(head.next)\n",
    "        head.next.next = head\n",
    "        head.next = None\n",
    "        return p"
   ]
  },
  {
   "cell_type": "markdown",
   "id": "62cfecbf",
   "metadata": {},
   "source": [
    "### Merge two sorted Linked List"
   ]
  },
  {
   "cell_type": "code",
   "execution_count": 102,
   "id": "f5f7ecb0",
   "metadata": {},
   "outputs": [],
   "source": [
    "class ListNode:\n",
    "    def __init__(self, val=0, next=None):\n",
    "        self.val = val\n",
    "        self.next = next\n",
    "        \n",
    "class Solution:\n",
    "    def merge(self, l1, l2):\n",
    "        if not l1 or not l2:\n",
    "            return l1 or l2\n",
    "        if l1.val < l2.val:\n",
    "            l1.next = self.merge(l1.next, l2)\n",
    "            return l1\n",
    "        else:\n",
    "            l2.next = self.merge(l1, l2.next)\n",
    "            return l2"
   ]
  },
  {
   "cell_type": "markdown",
   "id": "4b5a076d",
   "metadata": {},
   "source": [
    "## Binary Search Trees"
   ]
  },
  {
   "cell_type": "markdown",
   "id": "a7e19c11",
   "metadata": {},
   "source": [
    "### Inserting into a Binary Search Tree"
   ]
  },
  {
   "cell_type": "code",
   "execution_count": 114,
   "id": "65f49915",
   "metadata": {},
   "outputs": [],
   "source": [
    "class TreeNode:\n",
    "    def __init__(self, val = 0, left = None, right = None):\n",
    "        self.val = val\n",
    "        self.left = left\n",
    "        self.right = right\n",
    "\n",
    "\n",
    "def insert(self, root, val):\n",
    "    if not root:\n",
    "        return TreeNode[val]\n",
    "    if root.val < val:\n",
    "        root.right = self.insert(self, root.right, val)\n",
    "    else:\n",
    "        root.left = self.insert(self, root.left, val)\n",
    "    return root"
   ]
  },
  {
   "cell_type": "markdown",
   "id": "24d2d3f3",
   "metadata": {},
   "source": [
    "### Print all leaf nodes"
   ]
  },
  {
   "cell_type": "code",
   "execution_count": 107,
   "id": "40106fce",
   "metadata": {},
   "outputs": [
    {
     "name": "stdout",
     "output_type": "stream",
     "text": [
      "4 6 7 9 10 "
     ]
    }
   ],
   "source": [
    "class Node:\n",
    "    def __init__(self, val = 0, left = None, right = None):\n",
    "        self.val = val\n",
    "        self.left = left\n",
    "        self.right = right\n",
    "\n",
    "def display(root):\n",
    "    if not root:\n",
    "        return\n",
    "\n",
    "    if not root.left and not root.right:\n",
    "        print(root.val, end = \" \")\n",
    "        return\n",
    "\n",
    "    if root.left:\n",
    "        display(root.left)\n",
    "\n",
    "    if root.right:\n",
    "        display(root.right)\n",
    "\n",
    "if __name__ == \"__main__\":\n",
    " \n",
    "    root = Node(1)\n",
    "    root.left = Node(2)\n",
    "    root.right = Node(3)\n",
    "    root.left.left = Node(4)\n",
    "    root.right.left = Node(5)\n",
    "    root.right.right = Node(8)\n",
    "    root.right.left.left = Node(6)\n",
    "    root.right.left.right = Node(7)\n",
    "    root.right.right.left = Node(9)\n",
    "    root.right.right.right = Node(10)\n",
    " \n",
    "    # print leaf nodes of the given tree\n",
    "    display(root)"
   ]
  },
  {
   "cell_type": "code",
   "execution_count": 7,
   "id": "ee05c944",
   "metadata": {},
   "outputs": [],
   "source": [
    "l = [1,1,0]"
   ]
  },
  {
   "cell_type": "code",
   "execution_count": 14,
   "id": "23208958",
   "metadata": {},
   "outputs": [
    {
     "data": {
      "text/plain": [
       "[]"
      ]
     },
     "execution_count": 14,
     "metadata": {},
     "output_type": "execute_result"
    }
   ],
   "source": []
  },
  {
   "cell_type": "code",
   "execution_count": 15,
   "id": "350e83d7",
   "metadata": {},
   "outputs": [
    {
     "data": {
      "text/plain": [
       "0"
      ]
     },
     "execution_count": 15,
     "metadata": {},
     "output_type": "execute_result"
    }
   ],
   "source": [
    "5 // 10"
   ]
  },
  {
   "cell_type": "code",
   "execution_count": 16,
   "id": "3e447d79",
   "metadata": {},
   "outputs": [
    {
     "data": {
      "text/plain": [
       "5"
      ]
     },
     "execution_count": 16,
     "metadata": {},
     "output_type": "execute_result"
    }
   ],
   "source": [
    "5 % 10"
   ]
  },
  {
   "cell_type": "code",
   "execution_count": null,
   "id": "0b325dfd",
   "metadata": {},
   "outputs": [],
   "source": []
  }
 ],
 "metadata": {
  "kernelspec": {
   "display_name": "Python 3",
   "language": "python",
   "name": "python3"
  },
  "language_info": {
   "codemirror_mode": {
    "name": "ipython",
    "version": 3
   },
   "file_extension": ".py",
   "mimetype": "text/x-python",
   "name": "python",
   "nbconvert_exporter": "python",
   "pygments_lexer": "ipython3",
   "version": "3.8.8"
  }
 },
 "nbformat": 4,
 "nbformat_minor": 5
}
